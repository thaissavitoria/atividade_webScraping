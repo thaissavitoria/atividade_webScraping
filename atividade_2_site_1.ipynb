{
 "cells": [
  {
   "cell_type": "code",
   "execution_count": 3,
   "id": "1d4c6a99-0c10-4f57-8208-04cd7cf70788",
   "metadata": {},
   "outputs": [
    {
     "name": "stdout",
     "output_type": "stream",
     "text": [
      "Dados extraídos e salvos com sucesso.\n"
     ]
    }
   ],
   "source": [
    "import requests\n",
    "from bs4 import BeautifulSoup\n",
    "import csv\n",
    "import re\n",
    "\n",
    "def extrair_filmes_imdb():\n",
    "    url = \"https://www.imdb.com/chart/top/\"\n",
    "    \n",
    "    headers = {\n",
    "        \"User-Agent\": \"Mozilla/5.0 (Windows NT 10.0; Win64; x64) AppleWebKit/537.36 (KHTML, like Gecko) Chrome/91.0.4472.124 Safari/537.36\"\n",
    "    }\n",
    "    \n",
    "    try:\n",
    "        resposta = requests.get(url, headers=headers)\n",
    "        resposta.raise_for_status()\n",
    "        \n",
    "        soup = BeautifulSoup(resposta.text, 'html.parser')\n",
    "        \n",
    "        filmes = []\n",
    "        \n",
    "        titulos = soup.find_all('h3', class_='ipc-title__text', limit=20)\n",
    "        \n",
    "        for titulo in titulos:\n",
    "            filme_container = titulo.find_parent('div', class_='sc-5bc66c50-0')\n",
    "            \n",
    "            if filme_container:\n",
    "                texto_titulo = titulo.text.strip()\n",
    "                rank = re.search(r'^(\\d+)\\.', texto_titulo).group(1)\n",
    "                nome = texto_titulo.split('. ', 1)[1]\n",
    "                \n",
    "                nota = filme_container.find('span', class_='ipc-rating-star--rating').text.strip()\n",
    "                \n",
    "                dados = filme_container.find_all('span', class_='sc-5bc66c50-6')\n",
    "                \n",
    "                ano = \"\"\n",
    "                duracao = \"\"\n",
    "                classificacao = \"\"\n",
    "                \n",
    "                for d in dados:\n",
    "                    texto = d.text.strip()\n",
    "                    if len(texto) == 4 and texto.isdigit():  # Ano\n",
    "                        ano = texto\n",
    "                    elif 'h' in texto or 'm' in texto:  # Duração\n",
    "                        duracao = texto\n",
    "                    elif len(texto) <= 2 and texto.isdigit():  # Classificação\n",
    "                        classificacao = texto\n",
    "                \n",
    "                filmes.append({\n",
    "                    'rank': rank,\n",
    "                    'titulo': nome,\n",
    "                    'nota': nota,\n",
    "                    'ano': ano,\n",
    "                    'duracao': duracao,\n",
    "                    'classificacao': classificacao\n",
    "                })\n",
    "        \n",
    "        with open('top20_filmes_imdb.csv', 'w', newline='', encoding='utf-8') as file:\n",
    "            writer = csv.DictWriter(file, fieldnames=['rank', 'titulo', 'nota', 'ano', 'duracao', 'classificacao'])\n",
    "            writer.writeheader()\n",
    "            writer.writerows(filmes)\n",
    "            \n",
    "        print(\"Dados extraídos e salvos com sucesso.\")\n",
    "        return filmes\n",
    "        \n",
    "    except Exception as e:\n",
    "        print(f\"Ocorreu um erro: {str(e)}\")\n",
    "        return None\n",
    "\n",
    "if __name__ == \"__main__\":\n",
    "    extrair_filmes_imdb()"
   ]
  },
  {
   "cell_type": "code",
   "execution_count": null,
   "id": "69dc9a7e-0f98-42c2-bc48-df8b49853c8c",
   "metadata": {},
   "outputs": [],
   "source": []
  }
 ],
 "metadata": {
  "kernelspec": {
   "display_name": "Python 3 (ipykernel)",
   "language": "python",
   "name": "python3"
  },
  "language_info": {
   "codemirror_mode": {
    "name": "ipython",
    "version": 3
   },
   "file_extension": ".py",
   "mimetype": "text/x-python",
   "name": "python",
   "nbconvert_exporter": "python",
   "pygments_lexer": "ipython3",
   "version": "3.12.7"
  }
 },
 "nbformat": 4,
 "nbformat_minor": 5
}
