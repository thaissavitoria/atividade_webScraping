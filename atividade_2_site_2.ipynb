{
 "cells": [
  {
   "cell_type": "code",
   "execution_count": 33,
   "id": "d6ba03af-cd19-4298-ba24-97aadb1af0a4",
   "metadata": {},
   "outputs": [
    {
     "name": "stdout",
     "output_type": "stream",
     "text": [
      "Arquivo CSV salvo com sucesso!\n"
     ]
    }
   ],
   "source": [
    "import pandas as pd\n",
    "import requests\n",
    "from bs4 import BeautifulSoup\n",
    "\n",
    "def maiores_bilheterias_2024():\n",
    "    url = 'https://pt.wikipedia.org/wiki/2024_no_cinema'\n",
    "    \n",
    "    resposta = requests.get(url)\n",
    "    resposta.encoding = 'utf-8'\n",
    "    \n",
    "    soup = BeautifulSoup(resposta.text, 'html.parser')\n",
    "    \n",
    "    tabelas = soup.find_all('table', class_='wikitable sortable')\n",
    "    \n",
    "    tabela_bilheteria = None\n",
    "    \n",
    "    for i, tabela in enumerate(tabelas):\n",
    "        legenda = tabela.find('caption')\n",
    "        if legenda and 'Filmes de maior bilheteria de 2024' in legenda.text:\n",
    "            tabela_bilheteria = tabela\n",
    "            break\n",
    "    \n",
    "    if not tabela_bilheteria:\n",
    "        raise Exception(\"Tabela de bilheteria não encontrada\")\n",
    "\n",
    "    cabecalhos = []\n",
    "    primeira_linha = tabela_bilheteria.find('tr')\n",
    "    for th in primeira_linha.find_all('th'):\n",
    "        cabecalhos.append(th.text.strip())\n",
    "\n",
    "    dados = []\n",
    "    linhas = tabela_bilheteria.find_all('tr')[1:] \n",
    "\n",
    "    for i, linha in enumerate(linhas, start=1):     \n",
    "        cols = linha.find_all('td')\n",
    "        if len(cols) >= 2:\n",
    "            titulo = cols[0].text.strip()\n",
    "            produtor = cols[1].text.strip() if len(cols) > 2 else produtor\n",
    "            valor_bilheteria = cols[-1].text.strip()\n",
    "            \n",
    "            titulo = titulo.replace('\\n', ' ').strip()\n",
    "            if produtor:\n",
    "                produtor = produtor.replace('\\n', ' ').strip()\n",
    "            \n",
    "            dados.append([i, titulo, produtor, valor_bilheteria])\n",
    "   \n",
    "    if len(cabecalhos) < 4:\n",
    "        cabecalhos = ['Ranque', 'Título', 'Produtor', 'Bilheteria global']\n",
    "    df = pd.DataFrame(dados, columns=cabecalhos)\n",
    "    \n",
    "    df.to_csv('bilheteria_2024.csv', index=False, encoding='utf-8-sig')\n",
    "    print(\"Arquivo CSV salvo com sucesso!\")\n",
    "    \n",
    "    return df\n",
    "\n",
    "try:\n",
    "    df = maiores_bilheterias_2024()\n",
    "\n",
    "except Exception as e:\n",
    "    print(f\"Erro ao fazer scraping: {e}\")\n"
   ]
  },
  {
   "cell_type": "code",
   "execution_count": null,
   "id": "c5539c24-d01d-4a00-a19b-b9d0f291f70c",
   "metadata": {},
   "outputs": [],
   "source": []
  }
 ],
 "metadata": {
  "kernelspec": {
   "display_name": "Python 3 (ipykernel)",
   "language": "python",
   "name": "python3"
  },
  "language_info": {
   "codemirror_mode": {
    "name": "ipython",
    "version": 3
   },
   "file_extension": ".py",
   "mimetype": "text/x-python",
   "name": "python",
   "nbconvert_exporter": "python",
   "pygments_lexer": "ipython3",
   "version": "3.12.7"
  }
 },
 "nbformat": 4,
 "nbformat_minor": 5
}
