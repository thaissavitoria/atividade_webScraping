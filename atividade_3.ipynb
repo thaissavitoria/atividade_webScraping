{
 "cells": [
  {
   "cell_type": "code",
   "execution_count": 5,
   "id": "013e7e31-e37b-4f09-b32d-69e5075fddc8",
   "metadata": {},
   "outputs": [
    {
     "name": "stdout",
     "output_type": "stream",
     "text": [
      "Iniciando download tirinhas...\n",
      "Não foi possível encontrar a imagem da tirinha.\n",
      "Baixando tirinha Game Show...\n",
      "Baixando tirinha Nice To E-Meet You...\n",
      "Baixando tirinha Dockless Roombas...\n",
      "Baixando tirinha How to Send a File...\n",
      "Baixando tirinha Well-Ordering Principle...\n",
      "Baixando tirinha Review...\n",
      "Baixando tirinha Conference Question...\n",
      "Baixando tirinha Serena Versus the Drones...\n",
      "Baixando tirinha Old Game Worlds...\n",
      "Baixando tirinha E Scooters...\n",
      "Baixando tirinha Geologic Time...\n",
      "Baixando tirinha Dark Matter...\n",
      "Baixando tirinha Cumulonimbus...\n",
      "Baixando tirinha Unpopular Opinions...\n",
      "Baixando tirinha Icon Swap...\n",
      "Baixando tirinha When I'm Back at a Keyboard...\n",
      "Baixando tirinha Inbox...\n",
      "Baixando tirinha Spreadsheets...\n"
     ]
    },
    {
     "ename": "KeyboardInterrupt",
     "evalue": "",
     "output_type": "error",
     "traceback": [
      "\u001b[1;31m---------------------------------------------------------------------------\u001b[0m",
      "\u001b[1;31mKeyboardInterrupt\u001b[0m                         Traceback (most recent call last)",
      "Cell \u001b[1;32mIn[5], line 66\u001b[0m\n\u001b[0;32m     64\u001b[0m \u001b[38;5;28;01mif\u001b[39;00m \u001b[38;5;18m__name__\u001b[39m \u001b[38;5;241m==\u001b[39m \u001b[38;5;124m'\u001b[39m\u001b[38;5;124m__main__\u001b[39m\u001b[38;5;124m'\u001b[39m:\n\u001b[0;32m     65\u001b[0m     \u001b[38;5;28mprint\u001b[39m(\u001b[38;5;124m'\u001b[39m\u001b[38;5;124mIniciando download tirinhas...\u001b[39m\u001b[38;5;124m'\u001b[39m)\n\u001b[1;32m---> 66\u001b[0m     baixar_tirinhas()\n\u001b[0;32m     67\u001b[0m     \u001b[38;5;28mprint\u001b[39m(\u001b[38;5;124m'\u001b[39m\u001b[38;5;124mDownload concluído!\u001b[39m\u001b[38;5;124m'\u001b[39m)\n",
      "Cell \u001b[1;32mIn[5], line 56\u001b[0m, in \u001b[0;36mbaixar_tirinhas\u001b[1;34m()\u001b[0m\n\u001b[0;32m     52\u001b[0m         \u001b[38;5;28;01mbreak\u001b[39;00m\n\u001b[0;32m     54\u001b[0m     link \u001b[38;5;241m=\u001b[39m urljoin(link, link_ant\u001b[38;5;241m.\u001b[39mget(\u001b[38;5;124m'\u001b[39m\u001b[38;5;124mhref\u001b[39m\u001b[38;5;124m'\u001b[39m))\n\u001b[1;32m---> 56\u001b[0m     time\u001b[38;5;241m.\u001b[39msleep(\u001b[38;5;241m3\u001b[39m)\n\u001b[0;32m     57\u001b[0m     cont \u001b[38;5;241m=\u001b[39m cont \u001b[38;5;241m+\u001b[39m \u001b[38;5;241m1\u001b[39m\n\u001b[0;32m     59\u001b[0m \u001b[38;5;28;01mexcept\u001b[39;00m \u001b[38;5;167;01mException\u001b[39;00m \u001b[38;5;28;01mas\u001b[39;00m e:\n",
      "\u001b[1;31mKeyboardInterrupt\u001b[0m: "
     ]
    }
   ],
   "source": [
    "import requests\n",
    "from bs4 import BeautifulSoup\n",
    "import os\n",
    "from urllib.parse import urljoin\n",
    "import re\n",
    "import time\n",
    "\n",
    "def baixar_tirinhas():\n",
    "    caminho_downloads = os.path.expanduser('~')\n",
    "    pasta_tirinhas = os.path.join(caminho_downloads, 'Downloads', 'Tirinhas')\n",
    "    cont = 0\n",
    "    \n",
    "    if not os.path.exists(pasta_tirinhas):\n",
    "        os.makedirs(pasta_tirinhas)\n",
    "    \n",
    "    link = 'https://xkcd.com/'\n",
    "    \n",
    "    while True:\n",
    "        try:\n",
    "            resposta = requests.get(link)\n",
    "            resposta.raise_for_status()\n",
    "            soup = BeautifulSoup(resposta.text, 'html.parser')\n",
    "            \n",
    "            titulo = soup.select('#ctitle')[0].text if soup.select('#ctitle') else ' '\n",
    "            \n",
    "            imagem = soup.select('#comic img')\n",
    "            if not imagem:\n",
    "                print('Não foi possível encontrar a imagem da tirinha.')\n",
    "            else:\n",
    "                url_tirinha = imagem[0].get('src')\n",
    "                if not url_tirinha.startswith('http'):\n",
    "                    url_tirinha = urljoin('https:', url_tirinha)\n",
    "            \n",
    "                print(f'Baixando tirinha {titulo}...')\n",
    "                resposta_img = requests.get(url_tirinha)\n",
    "                resposta_img.raise_for_status()     \n",
    "    \n",
    "                image_ext = os.path.splitext(url_tirinha)[1]\n",
    "                if not image_ext:\n",
    "                    image_ext = '.png'\n",
    "                \n",
    "                nome_arquivo = f'{cont}{image_ext}'\n",
    "                caminho_img = os.path.join(pasta_tirinhas, nome_arquivo)\n",
    "                \n",
    "                with open(caminho_img, 'wb') as img_file:\n",
    "                    for it in resposta_img.iter_content(100000):\n",
    "                        img_file.write(it)\n",
    "            \n",
    "            link_ant = soup.select('a[rel=\"prev\"]')[0]\n",
    "            if not link_ant or not link_ant.get('href'):\n",
    "                print('Primeira tirinha!')\n",
    "                break\n",
    "                \n",
    "            link = urljoin(link, link_ant.get('href'))\n",
    "            \n",
    "            time.sleep(3)\n",
    "            cont = cont + 1\n",
    "            \n",
    "        except Exception as e:\n",
    "            print(f'Erro ao baixar tirinha: {e}')\n",
    "            print(f'URL que causou o erro: {url}')\n",
    "            break\n",
    "\n",
    "if __name__ == '__main__':\n",
    "    print('Iniciando download tirinhas...')\n",
    "    baixar_tirinhas()\n",
    "    print('Download concluído!')"
   ]
  },
  {
   "cell_type": "code",
   "execution_count": null,
   "id": "3f1092f1-a743-443f-9798-f411ee1e4819",
   "metadata": {},
   "outputs": [],
   "source": []
  }
 ],
 "metadata": {
  "kernelspec": {
   "display_name": "Python 3 (ipykernel)",
   "language": "python",
   "name": "python3"
  },
  "language_info": {
   "codemirror_mode": {
    "name": "ipython",
    "version": 3
   },
   "file_extension": ".py",
   "mimetype": "text/x-python",
   "name": "python",
   "nbconvert_exporter": "python",
   "pygments_lexer": "ipython3",
   "version": "3.12.7"
  }
 },
 "nbformat": 4,
 "nbformat_minor": 5
}
